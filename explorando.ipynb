{
 "cells": [
  {
   "cell_type": "code",
   "execution_count": 7,
   "metadata": {},
   "outputs": [],
   "source": [
    "from argparse import ArgumentParser\n",
    "\n",
    "from keras.utils import to_categorical\n",
    "from utility import globalvars\n",
    "from ggplot import *\n",
    "\n",
    "import pandas as pd\n",
    "import numpy as np\n",
    "\n",
    "try:\n",
    "    import cPickle as pickle\n",
    "except ImportError:\n",
    "    import pickle"
   ]
  },
  {
   "cell_type": "code",
   "execution_count": 8,
   "metadata": {},
   "outputs": [
    {
     "name": "stdout",
     "output_type": "stream",
     "text": [
      "Loading data from berlin-012345 data set...\n",
      "Number of samples: 375\n",
      "Number of classes: 5\n",
      "0 -> anger\n",
      "1 -> disgust\n",
      "2 -> fear\n",
      "3 -> happiness\n",
      "4 -> sadness\n",
      "5 -> surprise\n"
     ]
    }
   ],
   "source": [
    "dataset = \"berlin-012345\"\n",
    "dataset_path = dataset + \"/\"\n",
    "print(\"Loading data from \" + dataset + \" data set...\")\n",
    "ds = pickle.load(open(dataset_path + dataset + '_db.p', 'rb'))\n",
    "nb_samples = len(ds.targets)\n",
    "print(\"Number of samples: \" + str(nb_samples))\n",
    "globalvars.nb_classes = len(np.unique(ds.targets))\n",
    "nb_classes = globalvars.nb_classes\n",
    "print(\"Number of classes: \" + str(globalvars.nb_classes))\n",
    "i = 0\n",
    "for name_emo in ds.name_emotions:\n",
    "    print(str(i) + \" -> \" + name_emo)\n",
    "    i += 1"
   ]
  },
  {
   "cell_type": "code",
   "execution_count": 9,
   "metadata": {},
   "outputs": [
    {
     "name": "stdout",
     "output_type": "stream",
     "text": [
      "Loading features from file...\n"
     ]
    }
   ],
   "source": [
    "print(\"Loading features from file...\")\n",
    "features = pickle.load(open(dataset_path + dataset + '_features.p', 'rb'))\n",
    "features_sequence = pickle.load(open(dataset_path + dataset + '_features_sequence.p', 'rb'))\n",
    "\n",
    "lable_features = ['zcr', 'energy', 'energy_entropy', 'spectral_centroid', 'spectral_spread', 'spectral_entropy',\n",
    "                  'spectral_flux', 'spectral_rolloff', 'mfcc_1', 'mfcc_2', 'mfcc_3', 'mfcc_4', 'mfcc_5', 'mfcc_6',\n",
    "                  'mfcc_7', 'mfcc_8', 'mfcc_9', 'mfcc_10', 'mfcc_11', 'mfcc_12', 'mfcc_13', 'chroma_1', 'chroma_2',\n",
    "                  'chroma_3', 'chroma_4', 'chroma_5', 'chroma_6', 'chroma_7', 'chroma_8', 'chroma_9', 'chroma_10',\n",
    "                  'chroma_11', 'chroma_12', 'chroma_std', 'harmonic_ratio', 'pitch']"
   ]
  },
  {
   "cell_type": "code",
   "execution_count": 10,
   "metadata": {},
   "outputs": [
    {
     "data": {
      "image/png": "[encoded data removed]",
      "text/plain": [
       "<Figure size 792x576 with 1 Axes>"
      ]
     },
     "metadata": {},
     "output_type": "display_data"
    }
   ],
   "source": [
    "    mean_features = []\n",
    "    for single_audio in features:\n",
    "        mean_features.append(np.apply_along_axis(np.mean, 0, single_audio))\n",
    "\n",
    "    df_features = pd.DataFrame.from_records(data=mean_features, columns=lable_features)\n",
    "    df_emotions = pd.DataFrame(data=ds.targets, columns=[\"emotion\"])\n",
    "    df = pd.concat([df_features, df_emotions], axis=1)\n",
    "\n",
    "    p = ggplot(aes(x=\"energy\", y=\"emotion\"), data=df)\n",
    "    p + geom_violin()\n",
    "    p.show()"
   ]
  },
  {
   "cell_type": "code",
   "execution_count": null,
   "metadata": {},
   "outputs": [],
   "source": [
    "    mean_features = []\n",
    "    for single_audio in features:\n",
    "        mean_features.append(np.apply_along_axis(np.mean, 0, single_audio))\n",
    "\n",
    "    df_features = pd.DataFrame.from_records(data=mean_features, columns=lable_features)\n",
    "    df_emotions = pd.DataFrame(data=ds.targets, columns=[\"emotion\"])\n",
    "    df = pd.concat([df_features, df_emotions], axis=1)\n",
    "\n",
    "    p = ggplot(aes(x=\"energy\", y=\"emotion\"), data=df)\n",
    "    p + geom_violin()\n",
    "    p.show()"
   ]
  }
 ],
 "metadata": {
  "kernelspec": {
   "display_name": "explore_data",
   "language": "python",
   "name": "tfm-procject"
  },
  "language_info": {
   "codemirror_mode": {
    "name": "ipython",
    "version": 3
   },
   "file_extension": ".py",
   "mimetype": "text/x-python",
   "name": "python",
   "nbconvert_exporter": "python",
   "pygments_lexer": "ipython3",
   "version": "3.6.8"
  }
 },
 "nbformat": 4,
 "nbformat_minor": 2
}
