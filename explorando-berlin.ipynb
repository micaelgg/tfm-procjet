{
 "cells": [
  {
   "cell_type": "code",
   "execution_count": 1,
   "metadata": {
    "ExecuteTime": {
     "end_time": "2019-05-17T13:40:55.679536Z",
     "start_time": "2019-05-17T13:40:55.193295Z"
    },
    "hide_input": false,
    "hide_output": false,
    "run_control": {
     "marked": false
    }
   },
   "outputs": [],
   "source": [
    "import seaborn as sns\n",
    "import matplotlib.pyplot as plt\n",
    "\n",
    "import pandas as pd\n",
    "import numpy as np\n",
    "\n",
    "try:\n",
    "    import cPickle as pickle\n",
    "except ImportError:\n",
    "    import pickle\n",
    "\n",
    "%matplotlib inline\n",
    "\n",
    "sns.set_style(\"darkgrid\")"
   ]
  },
  {
   "cell_type": "markdown",
   "metadata": {},
   "source": [
    "# Dataset \n",
    "\n",
    "## Información general\n",
    "Emo-DB | Berlin \n",
    "--- | --- \n",
    "Idioma | Alemán\n",
    "Muestras | 535\n",
    "Emociones | anger boredom disgust anxiety/fear happiness sadness neutral\n",
    "Nº de actores | 10 (5H 5M)\n",
    "Naturaleza | Simulada\n",
    "URLs | [Documentación](http://emodb.bilderbar.info/index-1024.html) \n",
    "\n",
    "**Archivos:**\n",
    "Códec: PCM S16 LE\n",
    "Tasa muestreo (Fs)= 16000 Hz\n",
    "Bits por muestra: 16\n",
    "\n"
   ]
  },
  {
   "cell_type": "markdown",
   "metadata": {},
   "source": [
    "## Selección de muestras\n",
    "Vamos a estudiar las siguientes emociones:\n",
    "- anger \n",
    "- disgust \n",
    "- fear \n",
    "- happiness \n",
    "- sadness"
   ]
  },
  {
   "cell_type": "markdown",
   "metadata": {},
   "source": [
    "Cargamos el dataset"
   ]
  },
  {
   "cell_type": "code",
   "execution_count": 2,
   "metadata": {
    "ExecuteTime": {
     "end_time": "2019-05-17T13:40:56.018995Z",
     "start_time": "2019-05-17T13:40:55.680846Z"
    },
    "hide_input": false,
    "hide_output": false,
    "run_control": {
     "marked": false
    }
   },
   "outputs": [
    {
     "name": "stdout",
     "output_type": "stream",
     "text": [
      "Loading data from berlin-01234 data set...\n"
     ]
    }
   ],
   "source": [
    "dataset = \"berlin-01234\"\n",
    "dataset_path = dataset + \"/\"\n",
    "print(\"Loading data from \" + dataset + \" data set...\")\n",
    "ds = pickle.load(open(dataset_path + dataset + '_db.p', 'rb'))\n",
    "number_samples = len(ds.targets)"
   ]
  },
  {
   "cell_type": "markdown",
   "metadata": {},
   "source": [
    "Número de muestras"
   ]
  },
  {
   "cell_type": "code",
   "execution_count": 3,
   "metadata": {
    "ExecuteTime": {
     "end_time": "2019-05-17T13:40:56.022929Z",
     "start_time": "2019-05-17T13:40:56.020492Z"
    }
   },
   "outputs": [
    {
     "name": "stdout",
     "output_type": "stream",
     "text": [
      "Number of samples: 375\n"
     ]
    }
   ],
   "source": [
    "print(\"Number of samples: \" + str(number_samples))"
   ]
  },
  {
   "cell_type": "markdown",
   "metadata": {},
   "source": [
    "Distribución de duración de los audios"
   ]
  },
  {
   "cell_type": "code",
   "execution_count": 4,
   "metadata": {
    "ExecuteTime": {
     "end_time": "2019-05-17T13:40:56.147627Z",
     "start_time": "2019-05-17T13:40:56.024340Z"
    }
   },
   "outputs": [
    {
     "data": {
      "image/png": "[encoded data removed]",
      "text/plain": [
       "<Figure size 432x288 with 1 Axes>"
      ]
     },
     "metadata": {
      "needs_background": "light"
     },
     "output_type": "display_data"
    }
   ],
   "source": [
    "duracion = []\n",
    "for i in range(0, number_samples):\n",
    "    duracion.append((ds.data[i][0].size) / 16000)\n",
    "\n",
    "df_duracion = pd.Series(data=duracion, name=\"duracion\")\n",
    "sns.distplot(df_duracion)\n",
    "plt.show()"
   ]
  },
  {
   "cell_type": "markdown",
   "metadata": {},
   "source": [
    "Numero de muestras por sentimiento:"
   ]
  },
  {
   "cell_type": "code",
   "execution_count": 22,
   "metadata": {
    "ExecuteTime": {
     "end_time": "2019-05-17T14:06:36.826743Z",
     "start_time": "2019-05-17T14:06:36.806220Z"
    }
   },
   "outputs": [
    {
     "data": {
      "text/plain": [
       "anger        127\n",
       "happiness     71\n",
       "fear          69\n",
       "sadness       62\n",
       "disgust       46\n",
       "Name: emotion, dtype: int64"
      ]
     },
     "execution_count": 22,
     "metadata": {},
     "output_type": "execute_result"
    }
   ],
   "source": [
    "emotion_dic = {\n",
    "    0: 'anger',\n",
    "    1: 'disgust',\n",
    "    2: 'fear',\n",
    "    3: 'happiness',\n",
    "    4: 'sadness',\n",
    "    5: 'surprise',\n",
    "    6: 'neutral',\n",
    "    7: 'calm',\n",
    "    8: 'boredom'\n",
    "}\n",
    "df_emotions = pd.Series(data=ds.targets, name=\"emotion\", dtype=\"category\")\n",
    "df_emotions = df_emotions.map(lambda i: emotion_dic[i])\n",
    "df_emotions.value_counts()"
   ]
  },
  {
   "cell_type": "markdown",
   "metadata": {},
   "source": [
    "Duración de los audios según la emoción"
   ]
  },
  {
   "cell_type": "code",
   "execution_count": 6,
   "metadata": {
    "ExecuteTime": {
     "end_time": "2019-05-17T13:40:56.302207Z",
     "start_time": "2019-05-17T13:40:56.157096Z"
    }
   },
   "outputs": [
    {
     "data": {
      "text/plain": [
       "<matplotlib.axes._subplots.AxesSubplot at 0x7f3cf0622278>"
      ]
     },
     "execution_count": 6,
     "metadata": {},
     "output_type": "execute_result"
    },
    {
     "data": {
      "image/png": "[encoded data removed]",
      "text/plain": [
       "<Figure size 432x288 with 1 Axes>"
      ]
     },
     "metadata": {
      "needs_background": "light"
     },
     "output_type": "display_data"
    }
   ],
   "source": [
    "df_aux = pd.concat([df_emotions, df_duracion], axis=1)\n",
    "\n",
    "sns.boxplot(x=df_aux[\"emotion\"], y=df_aux[\"duracion\"])"
   ]
  },
  {
   "cell_type": "code",
   "execution_count": null,
   "metadata": {},
   "outputs": [],
   "source": []
  },
  {
   "cell_type": "markdown",
   "metadata": {},
   "source": [
    "# Características"
   ]
  },
  {
   "cell_type": "code",
   "execution_count": null,
   "metadata": {},
   "outputs": [],
   "source": [
    "label_features = [\n",
    "    'zcr', 'energy', 'energy_entropy', 'spectral_centroid', 'spectral_spread',\n",
    "    'spectral_entropy', 'spectral_flux', 'spectral_rolloff', 'mfcc_1',\n",
    "    'mfcc_2', 'mfcc_3', 'mfcc_4', 'mfcc_5', 'mfcc_6', 'mfcc_7', 'mfcc_8',\n",
    "    'mfcc_9', 'mfcc_10', 'mfcc_11', 'mfcc_12', 'mfcc_13', 'chroma_1',\n",
    "    'chroma_2', 'chroma_3', 'chroma_4', 'chroma_5', 'chroma_6', 'chroma_7',\n",
    "    'chroma_8', 'chroma_9', 'chroma_10', 'chroma_11', 'chroma_12',\n",
    "    'chroma_std', 'harmonic_ratio', 'pitch'\n",
    "]\n",
    "\n",
    "\n",
    "print(\"Loading features from file...\\n\")\n",
    "features = pickle.load(open(dataset_path + dataset + '_features.p', 'rb'))\n",
    "\n",
    "df = pd.DataFrame()\n",
    "audio_index = []\n",
    "row_index = []\n",
    "i = 0\n",
    "for single_audio in features:\n",
    "    audio_index = np.full(shape=len(single_audio), fill_value=i)\n",
    "    row_index = np.arange(len(single_audio))\n",
    "    index_df = pd.DataFrame({\"audio_number\": audio_index, \"row\": row_index})\n",
    "\n",
    "    single_audio_df = pd.DataFrame(single_audio, columns=label_features)\n",
    "\n",
    "    aux_df = pd.concat([index_df, single_audio_df], axis=1)\n",
    "\n",
    "    df = pd.concat([df, aux_df], axis=0, ignore_index=True)\n",
    "    i += 1\n",
    "\n",
    "df = df.set_index([\"audio_number\", \"row\"])"
   ]
  },
  {
   "cell_type": "markdown",
   "metadata": {},
   "source": [
    "## Zero Crossing Rate (zcr)"
   ]
  },
  {
   "cell_type": "code",
   "execution_count": null,
   "metadata": {},
   "outputs": [],
   "source": []
  },
  {
   "cell_type": "markdown",
   "metadata": {},
   "source": [
    "## Energy (energy)"
   ]
  },
  {
   "cell_type": "code",
   "execution_count": null,
   "metadata": {},
   "outputs": [],
   "source": []
  },
  {
   "cell_type": "markdown",
   "metadata": {},
   "source": [
    "## Entropy of Energy (energy_entropy)"
   ]
  },
  {
   "cell_type": "code",
   "execution_count": null,
   "metadata": {},
   "outputs": [],
   "source": []
  },
  {
   "cell_type": "markdown",
   "metadata": {},
   "source": [
    "# Spectral"
   ]
  },
  {
   "cell_type": "markdown",
   "metadata": {},
   "source": [
    "## Spectral Centroid (spectral_centroid)"
   ]
  },
  {
   "cell_type": "code",
   "execution_count": null,
   "metadata": {},
   "outputs": [],
   "source": []
  },
  {
   "cell_type": "markdown",
   "metadata": {},
   "source": [
    "## Spectral Spread (spectral_spread)"
   ]
  },
  {
   "cell_type": "code",
   "execution_count": null,
   "metadata": {},
   "outputs": [],
   "source": []
  },
  {
   "cell_type": "markdown",
   "metadata": {},
   "source": [
    "## Spectral Entropy (spectral_entropy)"
   ]
  },
  {
   "cell_type": "code",
   "execution_count": null,
   "metadata": {},
   "outputs": [],
   "source": []
  },
  {
   "cell_type": "markdown",
   "metadata": {},
   "source": [
    "## Spectral Flux (spectral_flux)"
   ]
  },
  {
   "cell_type": "code",
   "execution_count": null,
   "metadata": {},
   "outputs": [],
   "source": []
  },
  {
   "cell_type": "markdown",
   "metadata": {},
   "source": [
    "## Spectral Rolloff (spectral_rolloff)"
   ]
  },
  {
   "cell_type": "code",
   "execution_count": null,
   "metadata": {},
   "outputs": [],
   "source": []
  },
  {
   "cell_type": "markdown",
   "metadata": {},
   "source": [
    "## MFCCs  (mfcc_< X >)"
   ]
  },
  {
   "cell_type": "code",
   "execution_count": null,
   "metadata": {},
   "outputs": [],
   "source": []
  },
  {
   "cell_type": "markdown",
   "metadata": {},
   "source": [
    "## Chroma Vector (chroma_< X >)- Chroma Deviation (chroma_std)"
   ]
  },
  {
   "cell_type": "code",
   "execution_count": null,
   "metadata": {},
   "outputs": [],
   "source": []
  },
  {
   "cell_type": "markdown",
   "metadata": {},
   "source": [
    "## Harmonic ratio (harmonic_ratio)"
   ]
  },
  {
   "cell_type": "code",
   "execution_count": null,
   "metadata": {},
   "outputs": [],
   "source": []
  },
  {
   "cell_type": "markdown",
   "metadata": {},
   "source": [
    "## Pitch (pitch)"
   ]
  },
  {
   "cell_type": "code",
   "execution_count": null,
   "metadata": {},
   "outputs": [],
   "source": []
  }
 ],
 "metadata": {
  "kernelspec": {
   "display_name": "explore_data",
   "language": "python",
   "name": "tfm-procject"
  },
  "language_info": {
   "codemirror_mode": {
    "name": "ipython",
    "version": 3
   },
   "file_extension": ".py",
   "mimetype": "text/x-python",
   "name": "python",
   "nbconvert_exporter": "python",
   "pygments_lexer": "ipython3",
   "version": "3.6.8"
  },
  "notify_time": "0",
  "toc": {
   "base_numbering": 1,
   "nav_menu": {
    "height": "12px",
    "width": "164px"
   },
   "number_sections": true,
   "sideBar": true,
   "skip_h1_title": false,
   "title_cell": "Table of Contents",
   "title_sidebar": "Contents",
   "toc_cell": false,
   "toc_position": {},
   "toc_section_display": true,
   "toc_window_display": false
  },
  "varInspector": {
   "cols": {
    "lenName": 16,
    "lenType": 16,
    "lenVar": 40
   },
   "kernels_config": {
    "python": {
     "delete_cmd_postfix": "",
     "delete_cmd_prefix": "del ",
     "library": "var_list.py",
     "varRefreshCmd": "print(var_dic_list())"
    },
    "r": {
     "delete_cmd_postfix": ") ",
     "delete_cmd_prefix": "rm(",
     "library": "var_list.r",
     "varRefreshCmd": "cat(var_dic_list()) "
    }
   },
   "oldHeight": 323.85,
   "position": {
    "height": "354.85px",
    "left": "14px",
    "right": "637px",
    "top": "546px",
    "width": "629px"
   },
   "types_to_exclude": [
    "module",
    "function",
    "builtin_function_or_method",
    "instance",
    "_Feature"
   ],
   "varInspector_section_display": "block",
   "window_display": false
  }
 },
 "nbformat": 4,
 "nbformat_minor": 2
}
